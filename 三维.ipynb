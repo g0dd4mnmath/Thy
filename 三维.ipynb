{
 "metadata": {
  "language_info": {
   "codemirror_mode": {
    "name": "ipython",
    "version": 3
   },
   "file_extension": ".py",
   "mimetype": "text/x-python",
   "name": "python",
   "nbconvert_exporter": "python",
   "pygments_lexer": "ipython3",
   "version": "3.8.5"
  },
  "orig_nbformat": 2,
  "kernelspec": {
   "name": "python385jvsc74a57bd0be4762436bccde94f078bc376912694863b657a3fdce2e0a2df214ad25ab0145",
   "display_name": "Python 3.8.5 64-bit ('base': conda)"
  }
 },
 "nbformat": 4,
 "nbformat_minor": 2,
 "cells": [
  {
   "source": [
    "**导入包**"
   ],
   "cell_type": "markdown",
   "metadata": {}
  },
  {
   "cell_type": "code",
   "execution_count": 24,
   "metadata": {},
   "outputs": [],
   "source": [
    "import numpy as np\n",
    "import pandas as pd\n",
    "import matplotlib.pyplot as plt\n",
    "from mpl_toolkits.mplot3d import Axes3D\n",
    "%matplotlib qt\n",
    "import math"
   ]
  },
  {
   "source": [
    "**设置参数**"
   ],
   "cell_type": "markdown",
   "metadata": {}
  },
  {
   "cell_type": "code",
   "execution_count": 17,
   "metadata": {},
   "outputs": [],
   "source": [
    "a=1e-2\n",
    "dt=0.01\n",
    "dx=0.05\n",
    "dy=0.05\n",
    "dz=0.05\n",
    "X=1\n",
    "Y=1\n",
    "Z=2\n",
    "T=200\n",
    "t=np.arange(0,T+dt/2,dt)\n",
    "x=np.arange(0,X+dx/2,dx)\n",
    "y=np.arange(0,Y+dy/2,dy)\n",
    "z=np.arange(0,Z+dz/2,dz)\n",
    "u=np.ones((len(t),len(x),len(y),len(z)),dtype=float)*1\n",
    "u[0,round(0.5/dx),round(0.5/dy),round(0.5/dz)]=1\n",
    "Ax=np.diag(np.ones((len(x)),dtype=float))*(-2)+\\\n",
    "    np.diag(np.ones(len(x)-1),-1)+np.diag(np.ones(len(x)-1),+1)\n",
    "Ay=np.diag(np.ones((len(y)),dtype=float))*(-2)+\\\n",
    "    np.diag(np.ones(len(y)-1),-1)+np.diag(np.ones(len(y)-1),+1)\n",
    "Az=np.diag(np.ones((len(z)),dtype=float))*(-2)+\\\n",
    "    np.diag(np.ones(len(z)-1),-1)+np.diag(np.ones(len(z)-1),+1)"
   ]
  },
  {
   "source": [
    "**矩阵求解（速度快）**"
   ],
   "cell_type": "markdown",
   "metadata": {}
  },
  {
   "cell_type": "code",
   "execution_count": 18,
   "metadata": {},
   "outputs": [
    {
     "output_type": "stream",
     "name": "stdout",
     "text": [
      "T=40.0\n",
      "T=80.0\n",
      "T=120.0\n",
      "T=160.0\n",
      "T=200.0\n"
     ]
    }
   ],
   "source": [
    "for n in range(1,len(t)):\n",
    "    if t[n]%40==0:\n",
    "        print('T={}'.format(t[n]))\n",
    "    #设置边界条件\n",
    "    u[n-1,round(0.25/dx),round(0.25/dy),round(0.25/dz)]=1+0.5*np.sin(2*np.pi*t[n]/100)\n",
    "    u[n-1,round(0.75/dx),round(0.75/dy),round(0.75/dz)]=1+0.5*np.cos(2*np.pi*t[n]/100)\n",
    "    u[n-1,0,:,:]=1\n",
    "    u[n-1,-1,:,:]=1\n",
    "    u[n-1,:,0,:]=1\n",
    "    u[n-1,:,-1,:]=1\n",
    "    u[n-1,:,:,0]=1\n",
    "    u[n-1,:,:,-1]=1\n",
    "    #矩阵迭代，三维内节点公式\n",
    "    for k in range(len(z)):\n",
    "        u[n,:,:,k]=u[n-1,:,:,k]+dt*a*((Ax.dot(u[n-1,:,:,k]))\\\n",
    "            /pow(dx,2)+(Ay.dot(u[n-1,:,:,k].T).T)/pow(dy,2))\n",
    "    for j in range(len(y)):\n",
    "        u[n,:,j,:]=u[n,:,j,:]+dt*a*(Az.dot(u[n-1,:,j,:].T).T)\\\n",
    "            /pow(dz,2)"
   ]
  },
  {
   "source": [
    "**绘图**"
   ],
   "cell_type": "markdown",
   "metadata": {}
  },
  {
   "cell_type": "code",
   "execution_count": 30,
   "metadata": {},
   "outputs": [],
   "source": [
    "N=500\n",
    "x_axial, y_axial = np.meshgrid(x, y)\n",
    "fig = plt.figure(figsize=(8,6))\n",
    "ax = Axes3D(fig)\n",
    "plt.ion()\n",
    "for i in range(0,len(t)-1,N):\n",
    "    plt.cla()\n",
    "    plt.title('T={}'.format(t[i]))\n",
    "    ax.set_zlim(0.999,1.001)\n",
    "    ax.plot_surface(x_axial, y_axial, u[i,:,:,round(1.5/dz)].T,cmap=plt.get_cmap('rainbow'))\n",
    "    ax.set_xlabel('T={}'.format(t[i]))\n",
    "    plt.pause(0.05)\n",
    "plt.ioff()\n",
    "plt.show()"
   ]
  },
  {
   "source": [
    "**迭代求解（速度慢，易理解）**"
   ],
   "cell_type": "markdown",
   "metadata": {}
  },
  {
   "cell_type": "code",
   "execution_count": null,
   "metadata": {},
   "outputs": [],
   "source": [
    "for n in range(1,len(t)):\n",
    "    if t[n]%10==0:\n",
    "        print('T={}'.format(t[n]))\n",
    "    u[n-1,round(0.5/dx),round(0.5/dy),round(0.5/dz)]=1+0.5*np.sin(2*np.pi*t[n]/50)\n",
    "    #设置边界条件\n",
    "    u[n-1,0,:,:]=1\n",
    "    u[n-1,-1,:,:]=1\n",
    "    u[n-1,:,0,:]=1\n",
    "    u[n-1,:,-1,:]=1\n",
    "    u[n-1,:,:,0]=1\n",
    "    u[n-1,:,:,-1]=1\n",
    "    #迭代内节点公式\n",
    "    for i in range(1,len(x)-1):\n",
    "        for j in range(1,len(y)-1):\n",
    "            for k in range(1,len(z)-1):\n",
    "                u[n,i,j,k]=a*dt*((u[n-1,i+1,j,k]+u[n-1,i-1,j,k]-2*u[n-1,i,j,k])/pow(dx,2)+\n",
    "                (u[n-1,i,j+1,k]+u[n-1,i,j-1,k]-2*u[n-1,i,j,k])/pow(dy,2)+\n",
    "                (u[n-1,i,j,k+1]+u[n-1,i,j,k-1]-2*u[n-1,i,j,k])/pow(dz,2))+u[n-1,i,j,k]"
   ]
  },
  {
   "source": [
    "**调试矩阵方法**"
   ],
   "cell_type": "markdown",
   "metadata": {}
  },
  {
   "cell_type": "code",
   "execution_count": null,
   "metadata": {},
   "outputs": [],
   "source": [
    "print(u[20,8:12,2:5,5])"
   ]
  },
  {
   "cell_type": "code",
   "execution_count": null,
   "metadata": {},
   "outputs": [],
   "source": [
    "print(u[20,8:12,2:5,5])"
   ]
  }
 ]
}