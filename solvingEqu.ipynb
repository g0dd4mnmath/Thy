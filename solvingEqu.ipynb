{
 "cells": [
  {
   "cell_type": "code",
   "execution_count": 20,
   "metadata": {},
   "outputs": [],
   "source": [
    "import math\r\n",
    "import numpy as np"
   ]
  },
  {
   "cell_type": "markdown",
   "metadata": {},
   "source": [
    "f(x)=2sin(x)-x*x-exp(-x)=0"
   ]
  },
  {
   "cell_type": "code",
   "execution_count": 21,
   "metadata": {},
   "outputs": [],
   "source": [
    "def f(x):\r\n",
    "    return 2*math.sin(x)-x*x-math.exp(-x)\r\n",
    "\r\n",
    "def df(x):\r\n",
    "    return 2*math.cos(x)-2*x+math.exp(-x)\r\n",
    "\r\n",
    "def ddf(x):\r\n",
    "    return -2*math.sin(x)-2-math.exp(-x)"
   ]
  },
  {
   "cell_type": "markdown",
   "metadata": {},
   "source": [
    "## Biesction method "
   ]
  },
  {
   "cell_type": "code",
   "execution_count": 34,
   "metadata": {},
   "outputs": [
    {
     "name": "stdout",
     "output_type": "stream",
     "text": [
      "Biesction method:\n",
      "root:0.43104\n",
      "error:7.62939453125e-06\n",
      "Biesction method:\n",
      "root:1.27976\n",
      "error:7.62939453125e-06\n"
     ]
    }
   ],
   "source": [
    "def biesc(xMin,xMax):\r\n",
    "    print(\"Biesction method:\")\r\n",
    "    while True:\r\n",
    "        temp = xMin+(xMax-xMin)/2\r\n",
    "        f1Andf2 = f(xMin)*f(temp)\r\n",
    "        error = (xMax-xMin)/2\r\n",
    "        if f1Andf2 < 0 :\r\n",
    "            xMax=temp\r\n",
    "        elif f1Andf2 > 0:\r\n",
    "            xMin=temp\r\n",
    "        else:\r\n",
    "            print('root:{:.5f}\\nerror:{}'.format(temp,error))\r\n",
    "            break\r\n",
    "        if error < 1e-5:\r\n",
    "            print('root:{:.5f}\\nerror:{}'.format(temp, error))\r\n",
    "            break\r\n",
    "biesc(0,1)\r\n",
    "biesc(1,2)"
   ]
  },
  {
   "cell_type": "markdown",
   "metadata": {},
   "source": [
    "## Liner "
   ]
  },
  {
   "cell_type": "code",
   "execution_count": 35,
   "metadata": {},
   "outputs": [
    {
     "name": "stdout",
     "output_type": "stream",
     "text": [
      "Liner method:\n",
      "root:0.43104\n",
      "error:7.839469773340824e-08\n",
      "Liner method:\n",
      "root:1.27976\n",
      "error:1.973007099198565e-06\n"
     ]
    }
   ],
   "source": [
    "def fLiner(x0,x1):\r\n",
    "    print(\"Liner method:\")\r\n",
    "    xNext = x1 - (f(x1)*(x1-x0)/(f(x1)-f(x0)))\r\n",
    "    error = math.fabs(f(xNext))\r\n",
    "    while error > 1e-5:\r\n",
    "        x0 = x1\r\n",
    "        x1 = xNext\r\n",
    "        xNext = x1 - (f(x1)*(x1-x0)/(f(x1)-f(x0)))\r\n",
    "        error = math.fabs(f(xNext))\r\n",
    "    print('root:{:.5f}\\nerror:{}'.format(xNext, error))\r\n",
    "fLiner(0,0.1)\r\n",
    "fLiner(1,1.1)"
   ]
  },
  {
   "cell_type": "markdown",
   "metadata": {},
   "source": [
    "## FPI"
   ]
  },
  {
   "cell_type": "code",
   "execution_count": 24,
   "metadata": {},
   "outputs": [],
   "source": [
    "def fPI0(x):\r\n",
    "    return math.asin((x**2+math.exp(-x))/2)\r\n",
    "def fPI1(x):\r\n",
    "    return math.sqrt(2*math.sin(x)-math.exp(-x))"
   ]
  },
  {
   "cell_type": "code",
   "execution_count": 36,
   "metadata": {},
   "outputs": [
    {
     "name": "stdout",
     "output_type": "stream",
     "text": [
      "FPI method:\n",
      "root:0.43104\n",
      "error:4.427289640174248e-06\n",
      "FPI method:\n",
      "root:1.27976\n",
      "error:5.9580046058993474e-06\n"
     ]
    }
   ],
   "source": [
    "def fpi(fPI):\r\n",
    "    print(\"FPI method:\")\r\n",
    "    xMax=1\r\n",
    "    xNext = fPI(xMax)\r\n",
    "    error = math.fabs(xMax-xNext)\r\n",
    "    while error>1e-5 :\r\n",
    "        xMax = xNext\r\n",
    "        xNext = fPI(xMax)\r\n",
    "        error = math.fabs(xMax-xNext)\r\n",
    "    print('root:{:.5f}\\nerror:{}'.format(xNext, error))\r\n",
    "fpi(fPI0)\r\n",
    "fpi(fPI1)"
   ]
  },
  {
   "cell_type": "markdown",
   "metadata": {},
   "source": [
    "## Newton"
   ]
  },
  {
   "cell_type": "code",
   "execution_count": 37,
   "metadata": {},
   "outputs": [
    {
     "name": "stdout",
     "output_type": "stream",
     "text": [
      "Newton method:\n",
      "root:0.43104\n",
      "error:6.092745139729227e-09\n",
      "Newton method:\n",
      "root:1.27976\n",
      "error:4.5793581361428537e-10\n"
     ]
    }
   ],
   "source": [
    "def fNew(x0):\r\n",
    "    print(\"Newton method:\")\r\n",
    "    xNext = x0 - f(x0)/df(x0)\r\n",
    "    error = math.fabs(f(x0)/df(x0))\r\n",
    "    while error > 1e-5:\r\n",
    "        x0 = xNext\r\n",
    "        xNext = x0 - f(x0)/df(x0)\r\n",
    "        error = math.fabs(f(x0)/df(x0))\r\n",
    "    print('root:{:.5f}\\nerror:{}'.format(xNext, error))\r\n",
    "fNew(0)\r\n",
    "fNew(1)\r\n"
   ]
  },
  {
   "cell_type": "markdown",
   "metadata": {},
   "source": [
    "## Second D Newton"
   ]
  },
  {
   "cell_type": "code",
   "execution_count": 38,
   "metadata": {},
   "outputs": [
    {
     "name": "stdout",
     "output_type": "stream",
     "text": [
      "SecOrder Newton method:\n",
      "root:0.43104\n",
      "error:1.026924108762894e-06\n",
      "SecOrder Newton method:\n",
      "root:1.27976\n",
      "error:7.614462564852477e-08\n"
     ]
    }
   ],
   "source": [
    "def fSecNew(x0):\r\n",
    "    print(\"SecOrder Newton method:\")\r\n",
    "    xNext = x0 - (2*f(x0)*df(x0))/(2*df(x0)**2-ddf(x0)*f(x0))\r\n",
    "    error = math.fabs(f(x0)/df(x0))\r\n",
    "    while error > 1e-5:\r\n",
    "        x0 = xNext\r\n",
    "        xNext = x0 - f(x0)/df(x0)\r\n",
    "        error = math.fabs(f(x0)/df(x0))\r\n",
    "    print('root:{:.5f}\\nerror:{}'.format(xNext, error))\r\n",
    "fSecNew(0)\r\n",
    "fSecNew(1)\r\n"
   ]
  }
 ],
 "metadata": {
  "kernelspec": {
   "display_name": "Python 3.8.5 64-bit ('base': conda)",
   "name": "python385jvsc74a57bd0b3ba2566441a7c06988d0923437866b63cedc61552a5af99d1f4fb67d367b25f"
  },
  "language_info": {
   "codemirror_mode": {
    "name": "ipython",
    "version": 3
   },
   "file_extension": ".py",
   "mimetype": "text/x-python",
   "name": "python",
   "nbconvert_exporter": "python",
   "pygments_lexer": "ipython3",
   "version": "3.8.5"
  },
  "orig_nbformat": 2
 },
 "nbformat": 4,
 "nbformat_minor": 2
}