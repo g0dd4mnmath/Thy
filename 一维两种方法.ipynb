{
 "metadata": {
  "language_info": {
   "codemirror_mode": {
    "name": "ipython",
    "version": 3
   },
   "file_extension": ".py",
   "mimetype": "text/x-python",
   "name": "python",
   "nbconvert_exporter": "python",
   "pygments_lexer": "ipython3",
   "version": "3.8.5"
  },
  "orig_nbformat": 2,
  "kernelspec": {
   "name": "python385jvsc74a57bd0be4762436bccde94f078bc376912694863b657a3fdce2e0a2df214ad25ab0145",
   "display_name": "Python 3.8.5 64-bit ('base': conda)"
  }
 },
 "nbformat": 4,
 "nbformat_minor": 2,
 "cells": [
  {
   "source": [
    "**导入包**"
   ],
   "cell_type": "markdown",
   "metadata": {}
  },
  {
   "cell_type": "code",
   "execution_count": 1,
   "metadata": {},
   "outputs": [],
   "source": [
    "import numpy as np\n",
    "import pandas as pd\n",
    "import matplotlib.pyplot as plt\n",
    "from mpl_toolkits.mplot3d import Axes3D\n",
    "%matplotlib qt"
   ]
  },
  {
   "source": [
    "**Crank-Nicolson方式求解**"
   ],
   "cell_type": "markdown",
   "metadata": {}
  },
  {
   "cell_type": "code",
   "execution_count": 3,
   "metadata": {},
   "outputs": [],
   "source": [
    "#定义传热系数a，网格节点划分，线长为X，每dx一个节点，计算时间为T，每dt一个节点\n",
    "a=0.22\n",
    "dx=0.05\n",
    "dt=0.005\n",
    "X=1\n",
    "T=2\n",
    "#具体计算过程\n",
    "c=b=a/2/dx**2\n",
    "a=1/dt+c+b\n",
    "t=np.arange(0,T,dt)\n",
    "x=np.arange(0,X,dx)\n",
    "A=np.diag(np.ones((len(x)-2),dtype=float))*a+\\\n",
    "    np.diag(np.ones(len(x)-3)*(-c),-1)\\\n",
    "        +np.diag(np.ones(len(x)-3)*(-b),+1)\n",
    "B=np.diag(np.ones((len(x)),dtype=float))\\\n",
    "    *(1/dt-c-b)+\\\n",
    "        np.diag(np.ones(len(x)-1)*(c),-1)\\\n",
    "        +np.diag(np.ones(len(x)-1)*(b),+1)\n",
    "u=np.zeros((len(t),len(x)),dtype=float)\n",
    "u[0,:]=1-2*x"
   ]
  },
  {
   "cell_type": "code",
   "execution_count": 4,
   "metadata": {},
   "outputs": [],
   "source": [
    "for i in range(1,len(t)):\n",
    "    #边界条件\n",
    "    if i<=100:\n",
    "        u[i,0]=1\n",
    "        u[i,-1]=-1\n",
    "    elif i>100:\n",
    "        # u[i,0]=1.1\n",
    "        # u[i,-1]=-1\n",
    "        u[i,0]=2\n",
    "        u[i,-1]=-1\n",
    "    d=B.dot(u[i-1,:])\n",
    "    d[1]+=c*u[i,0]\n",
    "    d[-2]+=b*u[i,-1]\n",
    "    u[i,1:-1]=np.linalg.solve(A,d[1:-1])"
   ]
  },
  {
   "source": [
    "**向前差分计算**"
   ],
   "cell_type": "markdown",
   "metadata": {}
  },
  {
   "cell_type": "code",
   "execution_count": 5,
   "metadata": {},
   "outputs": [],
   "source": [
    "a=0.22\n",
    "dx=0.05\n",
    "dt=0.005\n",
    "lenx=1\n",
    "T=2\n",
    "qw=3.3\n",
    "t=np.arange(0,T,dt)\n",
    "x=np.arange(0,lenx,dx)\n",
    "u1=np.zeros((len(t),len(x)),dtype=float)\n",
    "A=np.zeros((len(x),len(x)),dtype=float)\n",
    "for i in range(len(x)):\n",
    "    for j in range(len(x)):\n",
    "        if i==j:\n",
    "            A[i,j]=-2\n",
    "        if abs(i-j)==1:\n",
    "            A[i,j]=1\n",
    "u[0,:]=1-2*x\n",
    "# print()\n",
    "for i in range(1,len(t)):\n",
    "    u1[i,:]=u[i-1,:]+dt*(a*A.dot(u[i-1,:])/pow(dx,2))\n",
    "    #边界条件\n",
    "    if i<=100:\n",
    "        u1[i,0]=1\n",
    "        u1[i,-1]=-1\n",
    "    elif i>100:\n",
    "        # u[i,0]=1.1\n",
    "        # u[i,-1]=-1\n",
    "        u1[i,0]=2\n",
    "        u1[i,-1]=-1"
   ]
  },
  {
   "source": [
    "**3D图**"
   ],
   "cell_type": "markdown",
   "metadata": {}
  },
  {
   "cell_type": "code",
   "execution_count": 6,
   "metadata": {},
   "outputs": [],
   "source": [
    "fig = plt.figure(figsize=(8,6))\n",
    "ax = Axes3D(fig)\n",
    "X, Y = np.meshgrid(x, t)\n",
    "ax.plot_surface(X, Y, u,cmap=plt.get_cmap('rainbow'))\n",
    "plt.show()"
   ]
  },
  {
   "source": [
    "**随时间，线上温度两种计算结果比较**"
   ],
   "cell_type": "markdown",
   "metadata": {}
  },
  {
   "cell_type": "code",
   "execution_count": 7,
   "metadata": {},
   "outputs": [],
   "source": [
    "N=10\n",
    "plt.ion()\n",
    "for i in range(1,round(len(t)/N)):\n",
    "    # print(i)\n",
    "    # print(iy)\n",
    "    plt.cla()\n",
    "    plt.title(\"t={}\".format(round(t[N*i],3)))\n",
    "    plt.plot(x, u1[N*i,:],'b',label='C-N',linewidth=3)\n",
    "    plt.plot(x,u[N*i,:],'r',linestyle='--',label='Forward',linewidth=3)\n",
    "    plt.xlabel(\"t\")\n",
    "    # plt.xlim(0,1)\n",
    "    plt.ylabel(\"Temperature\")\n",
    "    plt.legend()\n",
    "    plt.pause(0.01)\n",
    "plt.ioff()\n",
    "# plt.legend()\n",
    "plt.show()\n"
   ]
  },
  {
   "source": [
    "**横坐标时间，某一点处温度随时间变化，两种结算结果比较**"
   ],
   "cell_type": "markdown",
   "metadata": {}
  },
  {
   "cell_type": "code",
   "execution_count": 9,
   "metadata": {},
   "outputs": [],
   "source": [
    "N=10\n",
    "plt.ion()\n",
    "for i in range(1,round(len(t)/N)):\n",
    "    # print(i)\n",
    "    # y=u1[0:N*i:N,10]\n",
    "    # print(iy)\n",
    "    plt.cla()\n",
    "    plt.title(\"t={}\".format(round(t[N*i],3)))\n",
    "    # plt.plot(t[0:N*i:N], y)\n",
    "    plt.plot(t[0:N*i:N], u1[0:N*i:N,10],'b',label='C-N',linewidth=3)\n",
    "    plt.plot(t[0:N*i:N], u1[0:N*i:N,10],'r',linestyle='--',label='Forward',linewidth=3)\n",
    "    plt.xlabel(\"t\")\n",
    "    # plt.xlim(0,1)\n",
    "    plt.legend()\n",
    "    plt.ylabel(\"Temperature\")\n",
    "    plt.pause(0.01)\n",
    "plt.ioff()\n",
    "plt.show()"
   ]
  }
 ]
}