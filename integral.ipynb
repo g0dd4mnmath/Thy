{
 "cells": [
  {
   "cell_type": "code",
   "execution_count": 1,
   "metadata": {},
   "outputs": [],
   "source": [
    "import numpy as np"
   ]
  },
  {
   "cell_type": "code",
   "execution_count": 3,
   "metadata": {},
   "outputs": [],
   "source": [
    "pi = np.pi\r\n",
    "x0 = 0\r\n",
    "x1 = pi\r\n",
    "def func(x):\r\n",
    "    return np.sin(x)"
   ]
  },
  {
   "cell_type": "markdown",
   "metadata": {},
   "source": [
    "## 梯形"
   ]
  },
  {
   "cell_type": "code",
   "execution_count": 10,
   "metadata": {},
   "outputs": [
    {
     "name": "stdout",
     "output_type": "stream",
     "text": [
      "trapezoids integration: 0.000000\n"
     ]
    }
   ],
   "source": [
    "h = x1-x0\r\n",
    "trapf = (h/2)*(func(x1)+func(x0))\r\n",
    "print('trapezoids integration: %f'%trapf)"
   ]
  },
  {
   "cell_type": "markdown",
   "metadata": {},
   "source": [
    "## Simpson"
   ]
  },
  {
   "cell_type": "code",
   "execution_count": 18,
   "metadata": {},
   "outputs": [
    {
     "name": "stdout",
     "output_type": "stream",
     "text": [
      "simpson 3/8 ruler: 2.040524\n"
     ]
    }
   ],
   "source": [
    "h = (x1-x0)/3\r\n",
    "simf = (3*h/8)*(func(x0)+3*func(x0+h)+3*func(x0+2*h)+func(x0+3*h))\r\n",
    "print('simpson 3/8 ruler: %f'%simf)"
   ]
  },
  {
   "cell_type": "markdown",
   "metadata": {},
   "source": [
    "## Gaussian Quadrature"
   ]
  },
  {
   "cell_type": "code",
   "execution_count": 30,
   "metadata": {},
   "outputs": [
    {
     "name": "stdout",
     "output_type": "stream",
     "text": [
      "2 points gaussian quadratre: 1.935820\n",
      "3 points gaussian quadratre: 2.001389\n"
     ]
    }
   ],
   "source": [
    "h0 = (x1-x0)/2\r\n",
    "h1 = (x1+x0)/2\r\n",
    "gausf2 = h0*(func(h0*(-1/np.sqrt(3))+h1)+func(h0*(1/np.sqrt(3))+h1))\r\n",
    "gausf3 = h0*(5*func(h0*(-np.power(3/5, 1/2))+h1)+8*func(h0*(0)+h1)+5*func(h0*(np.power(3/5, 1/2))+h1))/9\r\n",
    "print('2 points gaussian quadratre: %f'%gausf2)\r\n",
    "print('3 points gaussian quadratre: %f' % gausf3)\r\n"
   ]
  }
 ],
 "metadata": {
  "kernelspec": {
   "display_name": "Python 3.8.5 64-bit ('base': conda)",
   "name": "python385jvsc74a57bd0b3ba2566441a7c06988d0923437866b63cedc61552a5af99d1f4fb67d367b25f"
  },
  "language_info": {
   "codemirror_mode": {
    "name": "ipython",
    "version": 3
   },
   "file_extension": ".py",
   "mimetype": "text/x-python",
   "name": "python",
   "nbconvert_exporter": "python",
   "pygments_lexer": "ipython3",
   "version": "3.8.5"
  },
  "orig_nbformat": 2
 },
 "nbformat": 4,
 "nbformat_minor": 2
}