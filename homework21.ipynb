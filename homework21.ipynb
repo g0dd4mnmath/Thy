{
 "metadata": {
  "language_info": {
   "codemirror_mode": {
    "name": "ipython",
    "version": 3
   },
   "file_extension": ".py",
   "mimetype": "text/x-python",
   "name": "python",
   "nbconvert_exporter": "python",
   "pygments_lexer": "ipython3",
   "version": "3.8.5"
  },
  "orig_nbformat": 2,
  "kernelspec": {
   "name": "python385jvsc74a57bd0be4762436bccde94f078bc376912694863b657a3fdce2e0a2df214ad25ab0145",
   "display_name": "Python 3.8.5 64-bit ('base': conda)"
  }
 },
 "nbformat": 4,
 "nbformat_minor": 2,
 "cells": [
  {
   "cell_type": "code",
   "execution_count": 2,
   "metadata": {},
   "outputs": [],
   "source": [
    "import numpy as np \n",
    "import matplotlib.pylab as plt"
   ]
  },
  {
   "cell_type": "code",
   "execution_count": 3,
   "metadata": {},
   "outputs": [],
   "source": [
    "def Trap(fun,start,end,n):\n",
    "    h=(end-start)/n\n",
    "    Sum=0\n",
    "    for i in range(n+1):\n",
    "        Sum=Sum+fun(start+i*h)\n",
    "    return h*Sum-h*(fun(start)+fun(end))/2"
   ]
  },
  {
   "cell_type": "code",
   "execution_count": 5,
   "metadata": {},
   "outputs": [],
   "source": [
    "def Simpson(fun,start,end,n):\n",
    "    h=(end-start)/n/3\n",
    "    Sum=0\n",
    "    for i in range(1,3*n):\n",
    "        if i%3==1 or i%3==2:\n",
    "            Sum+=3*fun(start+i*h)\n",
    "        elif i%3==0:\n",
    "            Sum+=2*fun(start+i*h)\n",
    "    return 3*h*(Sum+fun(start)+fun(end))/8"
   ]
  },
  {
   "cell_type": "code",
   "execution_count": 9,
   "metadata": {},
   "outputs": [],
   "source": [
    "def Gauss(fun,start,end,n):\n",
    "    h=(end-start)/n\n",
    "    Sum=0\n",
    "    for i in range(n):\n",
    "        Sum+=(fun(h*(i+0.5+1/pow(3,0.5)))+fun(h*(i+0.5-1/pow(3,0.5))))*h/2\n",
    "    return Sum"
   ]
  },
  {
   "cell_type": "code",
   "execution_count": 13,
   "metadata": {},
   "outputs": [
    {
     "output_type": "stream",
     "name": "stdout",
     "text": [
      "1.5695408241038843e-16\n1.3951473992034527e-16\n1.6653345369377348e-16\n"
     ]
    }
   ],
   "source": [
    "print(Simpson(np.cos,0,np.pi,10))\n",
    "print(Trap(np.cos,0,np.pi,10))\n",
    "print(Gauss(np.cos,0,np.pi,10))"
   ]
  }
 ]
}