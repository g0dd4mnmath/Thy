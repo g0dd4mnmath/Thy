{
 "metadata": {
  "language_info": {
   "codemirror_mode": {
    "name": "ipython",
    "version": 3
   },
   "file_extension": ".py",
   "mimetype": "text/x-python",
   "name": "python",
   "nbconvert_exporter": "python",
   "pygments_lexer": "ipython3",
   "version": "3.8.5"
  },
  "orig_nbformat": 2,
  "kernelspec": {
   "name": "python385jvsc74a57bd0be4762436bccde94f078bc376912694863b657a3fdce2e0a2df214ad25ab0145",
   "display_name": "Python 3.8.5 64-bit ('base': conda)"
  }
 },
 "nbformat": 4,
 "nbformat_minor": 2,
 "cells": [
  {
   "source": [
    "**导入包**"
   ],
   "cell_type": "markdown",
   "metadata": {}
  },
  {
   "cell_type": "code",
   "execution_count": 1,
   "metadata": {},
   "outputs": [],
   "source": [
    "import numpy as np\n",
    "import pandas as pd\n",
    "import matplotlib.pyplot as plt\n",
    "from mpl_toolkits.mplot3d import Axes3D\n",
    "%matplotlib qt\n",
    "import math"
   ]
  },
  {
   "source": [
    "**设置参数**"
   ],
   "cell_type": "markdown",
   "metadata": {}
  },
  {
   "cell_type": "code",
   "execution_count": 2,
   "metadata": {},
   "outputs": [],
   "source": [
    "#跟一维一样\n",
    "a=1e-3\n",
    "dt=0.01\n",
    "dx=0.02\n",
    "dy=0.02\n",
    "X=1\n",
    "Y=2\n",
    "T=100\n",
    "\n",
    "t=np.arange(0,T+dt/2,dt)\n",
    "x=np.arange(0,X+dx/2,dx)\n",
    "y=np.arange(0,Y+dy/2,dy)\n",
    "u=np.zeros((len(t),len(x),len(y)),dtype=float)\n",
    "u[0,round(0.5/dy),round(0.5/dx)]=1\n",
    "Ax=np.diag(np.ones((len(x)),dtype=float))*(-2)+\\\n",
    "    np.diag(np.ones(len(x)-1),-1)+np.diag(np.ones(len(x)-1),+1)\n",
    "Ay=np.diag(np.ones((len(y)),dtype=float))*(-2)+\\\n",
    "    np.diag(np.ones(len(y)-1),-1)+np.diag(np.ones(len(y)-1),+1)"
   ]
  },
  {
   "source": [
    "**矩阵乘法求解（速度快）**"
   ],
   "cell_type": "markdown",
   "metadata": {}
  },
  {
   "cell_type": "code",
   "execution_count": 3,
   "metadata": {
    "tags": []
   },
   "outputs": [
    {
     "output_type": "stream",
     "name": "stdout",
     "text": [
      "T=50.0\n",
      "T=100.0\n"
     ]
    }
   ],
   "source": [
    "u=np.zeros((len(t),len(x),len(y)),dtype=float)\n",
    "u[0,round(0.5/dx),round(0.5/dy)]=1\n",
    "for n in range(1,len(t)):\n",
    "    #看运行到了哪里\n",
    "    if t[n]%50==0:\n",
    "        print('T={}'.format(t[n]))\n",
    "    #设置边界条件\n",
    "    u[n-1,round(0.5/dx),round(0.5/dy)]=1+0.5*np.sin(2*np.pi*t[n]/10)\n",
    "    u[n-1,0,:]=0\n",
    "    u[n-1,-1,:]=0\n",
    "    u[n-1,:,0]=0\n",
    "    u[n-1,:,-1]=0\n",
    "    #内节点方程\n",
    "    u[n,:,:]=u[n-1,:,:]+dt*a*((Ax.dot(u[n-1,:,:]))/pow(dx,2)+(Ay.dot(u[n-1,:,:].T).T)/pow(dy,2))"
   ]
  },
  {
   "source": [
    "**绘图**"
   ],
   "cell_type": "markdown",
   "metadata": {}
  },
  {
   "cell_type": "code",
   "execution_count": 8,
   "metadata": {},
   "outputs": [],
   "source": [
    "N=1000\n",
    "a=0\n",
    "b=50\n",
    "c=0\n",
    "d=101\n",
    "x_axial, y_axial = np.meshgrid(x[a:b], y[c:d])\n",
    "fig = plt.figure(figsize=(8,6))\n",
    "ax = Axes3D(fig)\n",
    "plt.ion()\n",
    "for i in range(0,len(t),N):\n",
    "    plt.cla()\n",
    "    plt.title('T={}'.format(t[i]))\n",
    "    # ax.set_zlim(0,0.6)\n",
    "    ax.plot_surface(x_axial, y_axial, u[i,a:b,c:d].T,cmap=plt.get_cmap('rainbow'))\n",
    "    ax.set_xlabel('T={}'.format(t[i]))\n",
    "    plt.pause(0.01)\n",
    "plt.ioff()\n",
    "plt.show()"
   ]
  },
  {
   "source": [
    "**for循环求解(慢得很)**"
   ],
   "cell_type": "markdown",
   "metadata": {}
  },
  {
   "cell_type": "code",
   "execution_count": 4,
   "metadata": {
    "tags": []
   },
   "outputs": [
    {
     "output_type": "stream",
     "name": "stdout",
     "text": [
      "T=1.0\n",
      "T=2.0\n",
      "T=3.0\n",
      "T=4.0\n"
     ]
    },
    {
     "output_type": "error",
     "ename": "KeyboardInterrupt",
     "evalue": "",
     "traceback": [
      "\u001b[1;31m---------------------------------------------------------------------------\u001b[0m",
      "\u001b[1;31mKeyboardInterrupt\u001b[0m                         Traceback (most recent call last)",
      "\u001b[1;32m<ipython-input-4-bb9a3b8490ca>\u001b[0m in \u001b[0;36m<module>\u001b[1;34m\u001b[0m\n\u001b[0;32m     11\u001b[0m     \u001b[1;32mfor\u001b[0m \u001b[0mi\u001b[0m \u001b[1;32min\u001b[0m \u001b[0mrange\u001b[0m\u001b[1;33m(\u001b[0m\u001b[1;36m1\u001b[0m\u001b[1;33m,\u001b[0m\u001b[0mlen\u001b[0m\u001b[1;33m(\u001b[0m\u001b[0mx\u001b[0m\u001b[1;33m)\u001b[0m\u001b[1;33m-\u001b[0m\u001b[1;36m1\u001b[0m\u001b[1;33m)\u001b[0m\u001b[1;33m:\u001b[0m\u001b[1;33m\u001b[0m\u001b[1;33m\u001b[0m\u001b[0m\n\u001b[0;32m     12\u001b[0m         \u001b[1;32mfor\u001b[0m \u001b[0mj\u001b[0m \u001b[1;32min\u001b[0m \u001b[0mrange\u001b[0m\u001b[1;33m(\u001b[0m\u001b[1;36m1\u001b[0m\u001b[1;33m,\u001b[0m\u001b[0mlen\u001b[0m\u001b[1;33m(\u001b[0m\u001b[0my\u001b[0m\u001b[1;33m)\u001b[0m\u001b[1;33m-\u001b[0m\u001b[1;36m1\u001b[0m\u001b[1;33m)\u001b[0m\u001b[1;33m:\u001b[0m\u001b[1;33m\u001b[0m\u001b[1;33m\u001b[0m\u001b[0m\n\u001b[1;32m---> 13\u001b[1;33m             u[n,i,j]=a*dt*((u[n-1,i+1,j]+u[n-1,i-1,j]-2*u[n-1,i,j])/pow(dx,2)+\n\u001b[0m\u001b[0;32m     14\u001b[0m             (u[n-1,i,j+1]+u[n-1,i,j-1]-2*u[n-1,i,j])/pow(dy,2))+u[n-1,i,j]\n\u001b[0;32m     15\u001b[0m             \u001b[1;31m# u[n,:]=u[i-1,:]+dt*(a**2*A.dot(u[i-1,:])/pow(dx,2))\u001b[0m\u001b[1;33m\u001b[0m\u001b[1;33m\u001b[0m\u001b[1;33m\u001b[0m\u001b[0m\n",
      "\u001b[1;31mKeyboardInterrupt\u001b[0m: "
     ]
    }
   ],
   "source": [
    "u=np.zeros((len(t),len(x),len(y)),dtype=float)\n",
    "u[0,round(0.5/dx),round(0.5/dy)]=1\n",
    "for n in range(1,len(t)):\n",
    "    if t[n]%1==0:\n",
    "        print('T={}'.format(t[n]))\n",
    "    u[n-1,round(0.5/dx),round(0.5/dy)]=1+0.5*np.sin(2*np.pi*t[n]/100)\n",
    "    u[n-1,0,:]=0\n",
    "    u[n-1,-1,:]=0\n",
    "    u[n-1,:,0]=0\n",
    "    u[n-1,:,-1]=0\n",
    "    for i in range(1,len(x)-1):\n",
    "        for j in range(1,len(y)-1):\n",
    "            u[n,i,j]=a*dt*((u[n-1,i+1,j]+u[n-1,i-1,j]-2*u[n-1,i,j])/pow(dx,2)+\n",
    "            (u[n-1,i,j+1]+u[n-1,i,j-1]-2*u[n-1,i,j])/pow(dy,2))+u[n-1,i,j]\n",
    "            # u[n,:]=u[i-1,:]+dt*(a**2*A.dot(u[i-1,:])/pow(dx,2))"
   ]
  }
 ]
}