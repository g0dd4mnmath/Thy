{
 "metadata": {
  "language_info": {
   "codemirror_mode": {
    "name": "ipython",
    "version": 3
   },
   "file_extension": ".py",
   "mimetype": "text/x-python",
   "name": "python",
   "nbconvert_exporter": "python",
   "pygments_lexer": "ipython3",
   "version": "3.8.5"
  },
  "orig_nbformat": 2,
  "kernelspec": {
   "name": "python385jvsc74a57bd0be4762436bccde94f078bc376912694863b657a3fdce2e0a2df214ad25ab0145",
   "display_name": "Python 3.8.5 64-bit ('base': conda)"
  }
 },
 "nbformat": 4,
 "nbformat_minor": 2,
 "cells": [
  {
   "cell_type": "code",
   "execution_count": 1,
   "metadata": {},
   "outputs": [],
   "source": [
    "import numpy as np\n",
    "import matplotlib.pyplot as plt\n",
    "%matplotlib qt"
   ]
  },
  {
   "cell_type": "code",
   "execution_count": 2,
   "metadata": {
    "tags": []
   },
   "outputs": [],
   "source": [
    "#生成随机数\n",
    "N=100000\n",
    "x=np.random.random(N)*10\n",
    "y=np.random.random(N)\n",
    "array=[]\n",
    "n=1000\n",
    "plt.figure()\n",
    "# 动态画布\n",
    "plt.ion()\n",
    "for i in range(N):\n",
    "    if y[i]<=np.exp(-x[i]):\n",
    "        array.append(x[i])\n",
    "    #丢n个点画一次\n",
    "    if (i+1)%n==0: \n",
    "        plt.cla()#清除画布中的东西\n",
    "        plt.ylim(0,2000)\n",
    "        plt.title(\"N={}\".format(i+1))\n",
    "        plt.hist(array,40,(0,8))#,density=True\n",
    "        plt.pause(0.01)#画布中的内容停留的时间\n",
    "plt.ioff()\n",
    "plt.show()"
   ]
  },
  {
   "cell_type": "code",
   "execution_count": 3,
   "metadata": {},
   "outputs": [],
   "source": [
    "plt.figure()\n",
    "plt.hist(array,40,(0,8),density=True)\n",
    "plt.show()"
   ]
  }
 ]
}