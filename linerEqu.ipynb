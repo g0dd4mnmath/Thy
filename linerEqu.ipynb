{
 "cells": [
  {
   "cell_type": "code",
   "execution_count": 1,
   "metadata": {},
   "outputs": [],
   "source": [
    "import numpy as np\r\n",
    "import math"
   ]
  },
  {
   "cell_type": "markdown",
   "metadata": {},
   "source": [
    "4x-y+z=7  \r\n",
    "-4x+8y-z=21  \r\n",
    "-2x+y+5z=15"
   ]
  },
  {
   "cell_type": "markdown",
   "metadata": {},
   "source": [
    "## Gauss Method"
   ]
  },
  {
   "cell_type": "code",
   "execution_count": 2,
   "metadata": {},
   "outputs": [
    {
     "name": "stdout",
     "output_type": "stream",
     "text": [
      "Gauss method:\n",
      "x=2.0,y=4.0,z=3.0\n"
     ]
    }
   ],
   "source": [
    "r1 = np.array([4,-1,1,7])\r\n",
    "r2 = np.array([-4, 8, -1, 21])\r\n",
    "r3 = np.array([-2, 1, 5, 15])\r\n",
    "\r\n",
    "r1=r1/r1[0]\r\n",
    "r3 = r3-r1*r3[0]\r\n",
    "r2 = r2-r1*r2[0]\r\n",
    "\r\n",
    "r2=r2/r2[1]\r\n",
    "r3 = r3-r2*r3[1]\r\n",
    "\r\n",
    "r3=r3/r3[2]\r\n",
    "r2=r2-r2[2]*r3\r\n",
    "r1=r1-r2*r1[1]-r3*r1[2]\r\n",
    "\r\n",
    "#print(r1,'\\n',r2,'\\n',r3)\r\n",
    "print('Gauss method:\\nx={},y={},z={}'.format(r1[-1], r2[-1], r3[-1]))\r\n"
   ]
  },
  {
   "cell_type": "markdown",
   "metadata": {},
   "source": [
    "## LU"
   ]
  },
  {
   "cell_type": "markdown",
   "metadata": {},
   "source": [
    "Ax=b  \r\n",
    "A=LU  \r\n",
    "Lc=b  \r\n",
    "Ux=c"
   ]
  },
  {
   "cell_type": "code",
   "execution_count": 3,
   "metadata": {},
   "outputs": [
    {
     "name": "stdout",
     "output_type": "stream",
     "text": [
      "L:\n",
      " [[ 1.          0.          0.        ]\n",
      " [-1.          1.          0.        ]\n",
      " [-0.5         0.07142857  1.        ]] \n",
      "U:\n",
      " [[ 4.  -1.   1. ]\n",
      " [ 0.   7.   0. ]\n",
      " [ 0.   0.   5.5]]\n",
      "LU method:\n",
      "x=2.0,y=4.0,z=3.0\n"
     ]
    }
   ],
   "source": [
    "a=np.array([4,-1,1,-4,8,-1,-2,1,5.0]).reshape(3,3)\r\n",
    "b = np.array([7,21,15])\r\n",
    "l=np.eye(3)\r\n",
    "#c0=0第一行归零\r\n",
    "l[1][0]=a[1][0]/a[0][0]\r\n",
    "l[2][0]=a[2][0]/a[0][0]\r\n",
    "a[1]=a[1]-l[1][0]*a[0]\r\n",
    "a[2]=a[2]-l[2][0]*a[0]\r\n",
    "#c1=0第二行归零\r\n",
    "l[2][1]=a[2][1]/a[1][1]\r\n",
    "a[2]=a[2]-l[2][1]*a[1]\r\n",
    "u=a\r\n",
    "print('L:\\n',l,'\\nU:\\n',u)\r\n",
    "c=np.linalg.solve(l,b)\r\n",
    "x=np.linalg.solve(u, c)\r\n",
    "print('LU method:\\nx={},y={},z={}'.format(x[0],x[1],x[2]))\r\n"
   ]
  },
  {
   "cell_type": "markdown",
   "metadata": {},
   "source": [
    "## Jacobi Method"
   ]
  },
  {
   "cell_type": "code",
   "execution_count": 4,
   "metadata": {},
   "outputs": [
    {
     "name": "stdout",
     "output_type": "stream",
     "text": [
      "Jacobi method:\n",
      "x=2.0,y=4.0,z=3.0\n"
     ]
    }
   ],
   "source": [
    "a = np.array([4, -1, 1, -4, 8, -1, -2, 1, 5.0]).reshape(3, 3)\r\n",
    "b = np.array([7, 21, 15])\r\n",
    "d=np.diag(np.diag(a))\r\n",
    "lu=a-d\r\n",
    "dinv=np.linalg.inv(d)\r\n",
    "x0=np.array([0,0,0])\r\n",
    "x=np.matmul(dinv,(b-np.matmul(lu,x0)))  #matmul 矩阵乘法\r\n",
    "error = np.linalg.norm(x-x0,np.inf)\r\n",
    "while error > 1e-15:\r\n",
    "    x0=x\r\n",
    "    x = np.matmul(dinv,(b-np.matmul(lu, x0)))\r\n",
    "    error = np.linalg.norm(x-x0, np.inf)\r\n",
    "print('Jacobi method:\\nx={},y={},z={}'.format(x[0], x[1], x[2]))\r\n"
   ]
  }
 ],
 "metadata": {
  "kernelspec": {
   "display_name": "Python 3.8.5 64-bit ('base': conda)",
   "name": "python385jvsc74a57bd0b3ba2566441a7c06988d0923437866b63cedc61552a5af99d1f4fb67d367b25f"
  },
  "language_info": {
   "codemirror_mode": {
    "name": "ipython",
    "version": 3
   },
   "file_extension": ".py",
   "mimetype": "text/x-python",
   "name": "python",
   "nbconvert_exporter": "python",
   "pygments_lexer": "ipython3",
   "version": "3.8.5"
  },
  "orig_nbformat": 2
 },
 "nbformat": 4,
 "nbformat_minor": 2
}